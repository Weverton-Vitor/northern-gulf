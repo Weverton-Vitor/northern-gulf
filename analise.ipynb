{
 "cells": [
  {
   "cell_type": "code",
   "execution_count": 6,
   "metadata": {},
   "outputs": [
    {
     "name": "stdout",
     "output_type": "stream",
     "text": [
      "<class 'pandas.core.frame.DataFrame'>\n",
      "RangeIndex: 5750510 entries, 0 to 5750509\n",
      "Data columns (total 10 columns):\n",
      " #   Column      Dtype  \n",
      "---  ------      -----  \n",
      " 0   Unnamed: 0  int64  \n",
      " 1   CHLA        float64\n",
      " 2   B1          float64\n",
      " 3   B2          float64\n",
      " 4   B3          float64\n",
      " 5   B4          float64\n",
      " 6   B5          float64\n",
      " 7   B7          float64\n",
      " 8   QA          float64\n",
      " 9   B6          float64\n",
      "dtypes: float64(9), int64(1)\n",
      "memory usage: 438.7 MB\n",
      "None\n"
     ]
    }
   ],
   "source": [
    "# prompt: leia o dataframe /content/2007-05-08.csv e faça uma analise rápdia\n",
    "\n",
    "import pandas as pd\n",
    "\n",
    "# Leia o DataFrame\n",
    "df = pd.read_csv(\"./2007-05-08.csv\")\n",
    "\n"
   ]
  },
  {
   "cell_type": "code",
   "execution_count": 13,
   "metadata": {},
   "outputs": [
    {
     "name": "stdout",
     "output_type": "stream",
     "text": [
      "<class 'pandas.core.frame.DataFrame'>\n",
      "RangeIndex: 5750510 entries, 0 to 5750509\n",
      "Data columns (total 10 columns):\n",
      " #   Column      Dtype  \n",
      "---  ------      -----  \n",
      " 0   Unnamed: 0  int64  \n",
      " 1   CHLA        float64\n",
      " 2   B1          float64\n",
      " 3   B2          float64\n",
      " 4   B3          float64\n",
      " 5   B4          float64\n",
      " 6   B5          float64\n",
      " 7   B7          float64\n",
      " 8   QA          float64\n",
      " 9   B6          float64\n",
      "dtypes: float64(9), int64(1)\n",
      "memory usage: 438.7 MB\n"
     ]
    }
   ],
   "source": [
    "df.info()"
   ]
  },
  {
   "cell_type": "code",
   "execution_count": 8,
   "metadata": {},
   "outputs": [
    {
     "name": "stdout",
     "output_type": "stream",
     "text": [
      "   Unnamed: 0  CHLA      B1       B2       B3      B4      B5      B7    QA  \\\n",
      "0           0  87.0  9769.0  10616.0  10216.0  8987.0  8405.0  8021.0  32.0   \n",
      "1           1  87.0  9834.0  10748.0  10109.0  8987.0  8488.0  8140.0  32.0   \n",
      "2           2  86.0  9964.0  10616.0  10323.0  8987.0  8405.0  8258.0  32.0   \n",
      "3           3  86.0  9834.0  10748.0  10215.0  8987.0  8488.0  8258.0  32.0   \n",
      "4           4  86.0  9834.0  10616.0  10323.0  9114.0  8488.0  8258.0  32.0   \n",
      "\n",
      "        B6  \n",
      "0  42154.0  \n",
      "1  42154.0  \n",
      "2  42154.0  \n",
      "3  42154.0  \n",
      "4  42154.0  \n"
     ]
    }
   ],
   "source": [
    "# Exiba as primeiras linhas do DataFrame para ter uma visão geral dos dados\n",
    "print(df.head())"
   ]
  },
  {
   "cell_type": "code",
   "execution_count": 9,
   "metadata": {},
   "outputs": [
    {
     "name": "stdout",
     "output_type": "stream",
     "text": [
      "         Unnamed: 0          CHLA            B1            B2            B3  \\\n",
      "count  5.750510e+06  455415.00000  5.750510e+06  5.750510e+06  5.750510e+06   \n",
      "mean   2.875254e+06      66.77398  1.376191e+04  1.178986e+04  1.170377e+04   \n",
      "std    1.660029e+06      39.05461  1.359434e+04  5.849147e+03  7.749945e+03   \n",
      "min    0.000000e+00      24.00000  7.726000e+03  7.802000e+03  7.429000e+03   \n",
      "25%    1.437627e+06      47.00000  9.550000e+03  9.927000e+03  9.360000e+03   \n",
      "50%    2.875254e+06      66.00000  9.762000e+03  1.007600e+04  9.674000e+03   \n",
      "75%    4.312882e+06      70.00000  1.025300e+04  1.059300e+04  1.010200e+04   \n",
      "max    5.750509e+06     254.00000  6.553500e+04  6.553500e+04  6.553500e+04   \n",
      "\n",
      "                 B4            B5            B7            QA            B6  \n",
      "count  5.750510e+06  5.750510e+06  5.750510e+06  5.750510e+06  5.750510e+06  \n",
      "mean   1.117077e+04  1.153356e+04  1.014421e+04  3.003980e+01  4.243406e+04  \n",
      "std    6.160353e+03  9.123692e+03  3.660382e+03  9.457916e+00  1.126782e+03  \n",
      "min    6.461000e+03  7.066000e+03  6.958000e+03  0.000000e+00  3.708200e+04  \n",
      "25%    9.104000e+03  8.739000e+03  8.609000e+03  3.200000e+01  4.219900e+04  \n",
      "50%    9.478000e+03  9.233000e+03  8.964000e+03  3.200000e+01  4.287400e+04  \n",
      "75%    9.859000e+03  9.730000e+03  9.429000e+03  3.200000e+01  4.316500e+04  \n",
      "max    6.553500e+04  6.553500e+04  3.363000e+04  4.000000e+01  4.808100e+04  \n"
     ]
    }
   ],
   "source": [
    "# Resumo estatístico das colunas numéricas\n",
    "print(df.describe())"
   ]
  },
  {
   "cell_type": "code",
   "execution_count": 10,
   "metadata": {},
   "outputs": [
    {
     "name": "stdout",
     "output_type": "stream",
     "text": [
      "Unnamed: 0    5750510\n",
      "CHLA              231\n",
      "B1               9497\n",
      "B2              18211\n",
      "B3              15823\n",
      "B4              16722\n",
      "B5              13302\n",
      "B7              10624\n",
      "QA                 10\n",
      "B6               3432\n",
      "dtype: int64\n"
     ]
    }
   ],
   "source": [
    "# # Verifique a contagem de valores únicos em cada coluna\n",
    "print(df.nunique())"
   ]
  },
  {
   "cell_type": "code",
   "execution_count": 11,
   "metadata": {},
   "outputs": [
    {
     "name": "stdout",
     "output_type": "stream",
     "text": [
      "Unnamed: 0          0\n",
      "CHLA          5295095\n",
      "B1                  0\n",
      "B2                  0\n",
      "B3                  0\n",
      "B4                  0\n",
      "B5                  0\n",
      "B7                  0\n",
      "QA                  0\n",
      "B6                  0\n",
      "dtype: int64\n"
     ]
    }
   ],
   "source": [
    "# # Verifique se há valores nulos no dataframe\n",
    "print(df.isnull().sum())"
   ]
  },
  {
   "cell_type": "code",
   "execution_count": null,
   "metadata": {},
   "outputs": [],
   "source": []
  }
 ],
 "metadata": {
  "kernelspec": {
   "display_name": "base",
   "language": "python",
   "name": "python3"
  },
  "language_info": {
   "codemirror_mode": {
    "name": "ipython",
    "version": 3
   },
   "file_extension": ".py",
   "mimetype": "text/x-python",
   "name": "python",
   "nbconvert_exporter": "python",
   "pygments_lexer": "ipython3",
   "version": "3.11.5"
  }
 },
 "nbformat": 4,
 "nbformat_minor": 2
}
